{
 "cells": [
  {
   "cell_type": "code",
   "execution_count": 89,
   "metadata": {},
   "outputs": [],
   "source": [
    "import pandas as pd\n",
    "import matplotlib.pyplot as plt\n",
    "%matplotlib inline\n",
    "import numpy as np\n"
   ]
  },
  {
   "cell_type": "markdown",
   "metadata": {},
   "source": [
    "# Скопление галактик Coma (Abell 1656)"
   ]
  },
  {
   "cell_type": "markdown",
   "metadata": {},
   "source": [
    "изображение\n",
    "\n",
    "http://aladin.unistra.fr/AladinLite/?target=12%2059%2050.922%2B27%2058%206.22&fov=2.92&survey=P%2FSDSS9%2Fcolor"
   ]
  },
  {
   "cell_type": "markdown",
   "metadata": {},
   "source": [
    "информация об объекте\n",
    "\n",
    "http://ned.ipac.caltech.edu/"
   ]
  },
  {
   "cell_type": "code",
   "execution_count": 90,
   "metadata": {},
   "outputs": [],
   "source": [
    "data = pd.read_table(\"Coma_NED.dat\",sep='\\t',skiprows=17,usecols=[2,3,4,5,6,10],header=None)"
   ]
  },
  {
   "cell_type": "code",
   "execution_count": 91,
   "metadata": {},
   "outputs": [],
   "source": [
    "data.columns=['ra','dec','type','velocity','z','dist']\n"
   ]
  },
  {
   "cell_type": "code",
   "execution_count": 92,
   "metadata": {},
   "outputs": [
    {
     "data": {
      "text/html": [
       "<div>\n",
       "<style scoped>\n",
       "    .dataframe tbody tr th:only-of-type {\n",
       "        vertical-align: middle;\n",
       "    }\n",
       "\n",
       "    .dataframe tbody tr th {\n",
       "        vertical-align: top;\n",
       "    }\n",
       "\n",
       "    .dataframe thead th {\n",
       "        text-align: right;\n",
       "    }\n",
       "</style>\n",
       "<table border=\"1\" class=\"dataframe\">\n",
       "  <thead>\n",
       "    <tr style=\"text-align: right;\">\n",
       "      <th></th>\n",
       "      <th>ra</th>\n",
       "      <th>dec</th>\n",
       "      <th>type</th>\n",
       "      <th>velocity</th>\n",
       "      <th>z</th>\n",
       "      <th>dist</th>\n",
       "    </tr>\n",
       "  </thead>\n",
       "  <tbody>\n",
       "    <tr>\n",
       "      <th>0</th>\n",
       "      <td>194.95246</td>\n",
       "      <td>27.98274</td>\n",
       "      <td>G</td>\n",
       "      <td>5306</td>\n",
       "      <td>0.017700</td>\n",
       "      <td>13</td>\n",
       "    </tr>\n",
       "    <tr>\n",
       "      <th>1</th>\n",
       "      <td>194.94492</td>\n",
       "      <td>27.97385</td>\n",
       "      <td>G</td>\n",
       "      <td>9453</td>\n",
       "      <td>0.031532</td>\n",
       "      <td>83</td>\n",
       "    </tr>\n",
       "    <tr>\n",
       "      <th>2</th>\n",
       "      <td>194.94556</td>\n",
       "      <td>27.99192</td>\n",
       "      <td>G</td>\n",
       "      <td>8360</td>\n",
       "      <td>0.027886</td>\n",
       "      <td>19</td>\n",
       "    </tr>\n",
       "    <tr>\n",
       "      <th>3</th>\n",
       "      <td>194.93653</td>\n",
       "      <td>27.96867</td>\n",
       "      <td>G</td>\n",
       "      <td>9870</td>\n",
       "      <td>0.032923</td>\n",
       "      <td>5</td>\n",
       "    </tr>\n",
       "    <tr>\n",
       "      <th>4</th>\n",
       "      <td>194.96745</td>\n",
       "      <td>27.99621</td>\n",
       "      <td>G</td>\n",
       "      <td>8641</td>\n",
       "      <td>0.028823</td>\n",
       "      <td>6</td>\n",
       "    </tr>\n",
       "  </tbody>\n",
       "</table>\n",
       "</div>"
      ],
      "text/plain": [
       "          ra       dec type  velocity         z  dist\n",
       "0  194.95246  27.98274    G      5306  0.017700    13\n",
       "1  194.94492  27.97385    G      9453  0.031532    83\n",
       "2  194.94556  27.99192    G      8360  0.027886    19\n",
       "3  194.93653  27.96867    G      9870  0.032923     5\n",
       "4  194.96745  27.99621    G      8641  0.028823     6"
      ]
     },
     "execution_count": 92,
     "metadata": {},
     "output_type": "execute_result"
    }
   ],
   "source": [
    "data.head()"
   ]
  },
  {
   "cell_type": "code",
   "execution_count": null,
   "metadata": {},
   "outputs": [],
   "source": []
  },
  {
   "cell_type": "code",
   "execution_count": 93,
   "metadata": {},
   "outputs": [],
   "source": [
    "# Красное смещение скопления галактик Coma (Abell 1656)\n",
    "z_Coma = 0.0231 "
   ]
  },
  {
   "cell_type": "code",
   "execution_count": 94,
   "metadata": {},
   "outputs": [],
   "source": [
    "#cкорость света в км/с\n",
    "c=3.e5"
   ]
  },
  {
   "cell_type": "code",
   "execution_count": 95,
   "metadata": {},
   "outputs": [],
   "source": [
    "data['rel_vel'] = c*((data.z-z_Coma)/(1.+z_Coma))"
   ]
  },
  {
   "cell_type": "code",
   "execution_count": 96,
   "metadata": {},
   "outputs": [
    {
     "data": {
      "text/html": [
       "<div>\n",
       "<style scoped>\n",
       "    .dataframe tbody tr th:only-of-type {\n",
       "        vertical-align: middle;\n",
       "    }\n",
       "\n",
       "    .dataframe tbody tr th {\n",
       "        vertical-align: top;\n",
       "    }\n",
       "\n",
       "    .dataframe thead th {\n",
       "        text-align: right;\n",
       "    }\n",
       "</style>\n",
       "<table border=\"1\" class=\"dataframe\">\n",
       "  <thead>\n",
       "    <tr style=\"text-align: right;\">\n",
       "      <th></th>\n",
       "      <th>ra</th>\n",
       "      <th>dec</th>\n",
       "      <th>type</th>\n",
       "      <th>velocity</th>\n",
       "      <th>z</th>\n",
       "      <th>dist</th>\n",
       "      <th>rel_vel</th>\n",
       "    </tr>\n",
       "  </thead>\n",
       "  <tbody>\n",
       "    <tr>\n",
       "      <th>0</th>\n",
       "      <td>194.95246</td>\n",
       "      <td>27.98274</td>\n",
       "      <td>G</td>\n",
       "      <td>5306</td>\n",
       "      <td>0.017700</td>\n",
       "      <td>13</td>\n",
       "      <td>-1583.422930</td>\n",
       "    </tr>\n",
       "    <tr>\n",
       "      <th>1</th>\n",
       "      <td>194.94492</td>\n",
       "      <td>27.97385</td>\n",
       "      <td>G</td>\n",
       "      <td>9453</td>\n",
       "      <td>0.031532</td>\n",
       "      <td>83</td>\n",
       "      <td>2472.485583</td>\n",
       "    </tr>\n",
       "    <tr>\n",
       "      <th>2</th>\n",
       "      <td>194.94556</td>\n",
       "      <td>27.99192</td>\n",
       "      <td>G</td>\n",
       "      <td>8360</td>\n",
       "      <td>0.027886</td>\n",
       "      <td>19</td>\n",
       "      <td>1403.381879</td>\n",
       "    </tr>\n",
       "    <tr>\n",
       "      <th>3</th>\n",
       "      <td>194.93653</td>\n",
       "      <td>27.96867</td>\n",
       "      <td>G</td>\n",
       "      <td>9870</td>\n",
       "      <td>0.032923</td>\n",
       "      <td>5</td>\n",
       "      <td>2880.363601</td>\n",
       "    </tr>\n",
       "    <tr>\n",
       "      <th>4</th>\n",
       "      <td>194.96745</td>\n",
       "      <td>27.99621</td>\n",
       "      <td>G</td>\n",
       "      <td>8641</td>\n",
       "      <td>0.028823</td>\n",
       "      <td>6</td>\n",
       "      <td>1678.135080</td>\n",
       "    </tr>\n",
       "  </tbody>\n",
       "</table>\n",
       "</div>"
      ],
      "text/plain": [
       "          ra       dec type  velocity         z  dist      rel_vel\n",
       "0  194.95246  27.98274    G      5306  0.017700    13 -1583.422930\n",
       "1  194.94492  27.97385    G      9453  0.031532    83  2472.485583\n",
       "2  194.94556  27.99192    G      8360  0.027886    19  1403.381879\n",
       "3  194.93653  27.96867    G      9870  0.032923     5  2880.363601\n",
       "4  194.96745  27.99621    G      8641  0.028823     6  1678.135080"
      ]
     },
     "execution_count": 96,
     "metadata": {},
     "output_type": "execute_result"
    }
   ],
   "source": [
    "data.head()\n"
   ]
  },
  {
   "cell_type": "code",
   "execution_count": 97,
   "metadata": {},
   "outputs": [
    {
     "data": {
      "text/plain": [
       "(array([  3.,  29.,  87., 176., 256., 340., 224.,  79.,  33.,  23.]),\n",
       " array([3834. , 4448.3, 5062.6, 5676.9, 6291.2, 6905.5, 7519.8, 8134.1,\n",
       "        8748.4, 9362.7, 9977. ]),\n",
       " <a list of 10 Patch objects>)"
      ]
     },
     "execution_count": 97,
     "metadata": {},
     "output_type": "execute_result"
    },
    {
     "data": {
      "image/png": "[encoded data removed]",
      "text/plain": [
       "<Figure size 432x288 with 1 Axes>"
      ]
     },
     "metadata": {
      "needs_background": "light"
     },
     "output_type": "display_data"
    }
   ],
   "source": [
    "plt.hist(data['velocity'])"
   ]
  },
  {
   "cell_type": "code",
   "execution_count": 98,
   "metadata": {},
   "outputs": [
    {
     "data": {
      "text/plain": [
       "7000.5648"
      ]
     },
     "execution_count": 98,
     "metadata": {},
     "output_type": "execute_result"
    }
   ],
   "source": [
    "data['velocity'].mean()"
   ]
  },
  {
   "cell_type": "code",
   "execution_count": 99,
   "metadata": {},
   "outputs": [
    {
     "data": {
      "text/plain": [
       "1000.6744263980559"
      ]
     },
     "execution_count": 99,
     "metadata": {},
     "output_type": "execute_result"
    }
   ],
   "source": [
    "data['velocity'].std()"
   ]
  },
  {
   "cell_type": "code",
   "execution_count": 100,
   "metadata": {},
   "outputs": [],
   "source": [
    "R = 180 # arcmin\n",
    "# Перевести в физический радиус"
   ]
  },
  {
   "cell_type": "markdown",
   "metadata": {},
   "source": [
    "# Расстояние до скопления галактик Coma"
   ]
  },
  {
   "cell_type": "markdown",
   "metadata": {},
   "source": [
    "## 1) Закон Хаббла\n",
    "# $ D = \\frac{cz}{H_0}$"
   ]
  },
  {
   "cell_type": "markdown",
   "metadata": {},
   "source": [
    "## $H_0$ = 70 km/s/Mpc"
   ]
  },
  {
   "cell_type": "code",
   "execution_count": 101,
   "metadata": {},
   "outputs": [
    {
     "data": {
      "text/plain": [
       "99.0"
      ]
     },
     "execution_count": 101,
     "metadata": {},
     "output_type": "execute_result"
    }
   ],
   "source": [
    "D_Hubble = c*z_Coma/70.\n",
    "D_Hubble"
   ]
  },
  {
   "cell_type": "code",
   "execution_count": 102,
   "metadata": {},
   "outputs": [],
   "source": [
    "# Пусть размер скопления = 180 угловых минут"
   ]
  },
  {
   "cell_type": "code",
   "execution_count": 103,
   "metadata": {},
   "outputs": [],
   "source": [
    "Rcl_arcmin = 180."
   ]
  },
  {
   "cell_type": "code",
   "execution_count": 104,
   "metadata": {},
   "outputs": [
    {
     "data": {
      "text/plain": [
       "5183.627878423159"
      ]
     },
     "execution_count": 104,
     "metadata": {},
     "output_type": "execute_result"
    }
   ],
   "source": [
    "Rcl_kpc = Rcl_arcmin/60.*np.pi/180.*D_Hubble*1000.\n",
    "Rcl_kpc"
   ]
  },
  {
   "cell_type": "markdown",
   "metadata": {},
   "source": [
    "## 2) космологическое расстояние"
   ]
  },
  {
   "cell_type": "markdown",
   "metadata": {},
   "source": [
    "# $D = \\int_0^{z} \\frac{c }{H(t)}dz$"
   ]
  },
  {
   "cell_type": "markdown",
   "metadata": {},
   "source": [
    "http://www.astro.ucla.edu/~wright/CosmoCalc.html"
   ]
  },
  {
   "cell_type": "code",
   "execution_count": null,
   "metadata": {},
   "outputs": [],
   "source": []
  },
  {
   "cell_type": "code",
   "execution_count": 105,
   "metadata": {},
   "outputs": [
    {
     "name": "stdout",
     "output_type": "stream",
     "text": [
      "5032.8\n"
     ]
    }
   ],
   "source": [
    "Rcl = 0.466*180.*60 # в килопарсеках\n",
    "print(Rcl)"
   ]
  },
  {
   "cell_type": "code",
   "execution_count": 106,
   "metadata": {},
   "outputs": [],
   "source": [
    "G = 4.302e-3 #pc/Msun (km/s)^2"
   ]
  },
  {
   "cell_type": "code",
   "execution_count": 107,
   "metadata": {},
   "outputs": [
    {
     "name": "stdout",
     "output_type": "stream",
     "text": [
      "3.362051709426284 10^{15} Msun\n"
     ]
    }
   ],
   "source": [
    "Mass=Rcl*3.*data['rel_vel'].std()*data['rel_vel'].std()/G/1e-3/1e15\n",
    "print(Mass, \"10^{15} Msun\")"
   ]
  },
  {
   "cell_type": "code",
   "execution_count": null,
   "metadata": {},
   "outputs": [],
   "source": []
  },
  {
   "cell_type": "code",
   "execution_count": null,
   "metadata": {},
   "outputs": [],
   "source": []
  },
  {
   "cell_type": "markdown",
   "metadata": {},
   "source": [
    "# Определеним $r_{halfmass}$ "
   ]
  },
  {
   "cell_type": "code",
   "execution_count": 108,
   "metadata": {},
   "outputs": [
    {
     "data": {
      "text/plain": [
       "Text(0, 0.5, 'relative velocity, km/s')"
      ]
     },
     "execution_count": 108,
     "metadata": {},
     "output_type": "execute_result"
    },
    {
     "data": {
      "image/png": "[encoded data removed]",
      "text/plain": [
       "<Figure size 432x288 with 1 Axes>"
      ]
     },
     "metadata": {
      "needs_background": "light"
     },
     "output_type": "display_data"
    }
   ],
   "source": [
    "plt.scatter(data.dist, data.rel_vel)\n",
    "plt.xlabel('distance, arcmin')\n",
    "plt.ylabel('relative velocity, km/s')"
   ]
  },
  {
   "cell_type": "code",
   "execution_count": 109,
   "metadata": {},
   "outputs": [],
   "source": [
    "from astropy import units as u\n",
    "from astropy.coordinates import SkyCoord"
   ]
  },
  {
   "cell_type": "code",
   "execution_count": 110,
   "metadata": {},
   "outputs": [],
   "source": [
    "coma_ra=194.953054\n",
    "coma_dec=27.980694\n",
    "\n"
   ]
  },
  {
   "cell_type": "code",
   "execution_count": 111,
   "metadata": {},
   "outputs": [],
   "source": [
    "data['dist_v2'] = SkyCoord(ra=data.ra, dec=data.dec, unit=(u.deg, u.deg), frame='icrs').separation(SkyCoord(ra=coma_ra*u.degree, dec=coma_dec*u.degree, frame='icrs')).arcmin\n"
   ]
  },
  {
   "cell_type": "code",
   "execution_count": 112,
   "metadata": {},
   "outputs": [
    {
     "data": {
      "text/html": [
       "<div>\n",
       "<style scoped>\n",
       "    .dataframe tbody tr th:only-of-type {\n",
       "        vertical-align: middle;\n",
       "    }\n",
       "\n",
       "    .dataframe tbody tr th {\n",
       "        vertical-align: top;\n",
       "    }\n",
       "\n",
       "    .dataframe thead th {\n",
       "        text-align: right;\n",
       "    }\n",
       "</style>\n",
       "<table border=\"1\" class=\"dataframe\">\n",
       "  <thead>\n",
       "    <tr style=\"text-align: right;\">\n",
       "      <th></th>\n",
       "      <th>ra</th>\n",
       "      <th>dec</th>\n",
       "      <th>type</th>\n",
       "      <th>velocity</th>\n",
       "      <th>z</th>\n",
       "      <th>dist</th>\n",
       "      <th>rel_vel</th>\n",
       "      <th>dist_v2</th>\n",
       "    </tr>\n",
       "  </thead>\n",
       "  <tbody>\n",
       "    <tr>\n",
       "      <th>0</th>\n",
       "      <td>194.95246</td>\n",
       "      <td>27.98274</td>\n",
       "      <td>G</td>\n",
       "      <td>5306</td>\n",
       "      <td>0.017700</td>\n",
       "      <td>13</td>\n",
       "      <td>-1583.422930</td>\n",
       "      <td>0.126730</td>\n",
       "    </tr>\n",
       "    <tr>\n",
       "      <th>1</th>\n",
       "      <td>194.94492</td>\n",
       "      <td>27.97385</td>\n",
       "      <td>G</td>\n",
       "      <td>9453</td>\n",
       "      <td>0.031532</td>\n",
       "      <td>83</td>\n",
       "      <td>2472.485583</td>\n",
       "      <td>0.595307</td>\n",
       "    </tr>\n",
       "    <tr>\n",
       "      <th>2</th>\n",
       "      <td>194.94556</td>\n",
       "      <td>27.99192</td>\n",
       "      <td>G</td>\n",
       "      <td>8360</td>\n",
       "      <td>0.027886</td>\n",
       "      <td>19</td>\n",
       "      <td>1403.381879</td>\n",
       "      <td>0.781882</td>\n",
       "    </tr>\n",
       "    <tr>\n",
       "      <th>3</th>\n",
       "      <td>194.93653</td>\n",
       "      <td>27.96867</td>\n",
       "      <td>G</td>\n",
       "      <td>9870</td>\n",
       "      <td>0.032923</td>\n",
       "      <td>5</td>\n",
       "      <td>2880.363601</td>\n",
       "      <td>1.134523</td>\n",
       "    </tr>\n",
       "    <tr>\n",
       "      <th>4</th>\n",
       "      <td>194.96745</td>\n",
       "      <td>27.99621</td>\n",
       "      <td>G</td>\n",
       "      <td>8641</td>\n",
       "      <td>0.028823</td>\n",
       "      <td>6</td>\n",
       "      <td>1678.135080</td>\n",
       "      <td>1.203517</td>\n",
       "    </tr>\n",
       "  </tbody>\n",
       "</table>\n",
       "</div>"
      ],
      "text/plain": [
       "          ra       dec type  velocity         z  dist      rel_vel   dist_v2\n",
       "0  194.95246  27.98274    G      5306  0.017700    13 -1583.422930  0.126730\n",
       "1  194.94492  27.97385    G      9453  0.031532    83  2472.485583  0.595307\n",
       "2  194.94556  27.99192    G      8360  0.027886    19  1403.381879  0.781882\n",
       "3  194.93653  27.96867    G      9870  0.032923     5  2880.363601  1.134523\n",
       "4  194.96745  27.99621    G      8641  0.028823     6  1678.135080  1.203517"
      ]
     },
     "execution_count": 112,
     "metadata": {},
     "output_type": "execute_result"
    }
   ],
   "source": [
    "data.head()\n"
   ]
  },
  {
   "cell_type": "code",
   "execution_count": 113,
   "metadata": {},
   "outputs": [],
   "source": [
    "data.to_csv('/home/natalie/Downloads/Coma_NED_v2.dat',\n",
    "                             sep='\\t',header=True, columns=['ra','dec','velocity','z','dist_v2'], index=False)   "
   ]
  },
  {
   "cell_type": "code",
   "execution_count": 114,
   "metadata": {
    "scrolled": true
   },
   "outputs": [
    {
     "data": {
      "text/plain": [
       "Text(0, 0.5, 'relative velocity, km/s')"
      ]
     },
     "execution_count": 114,
     "metadata": {},
     "output_type": "execute_result"
    },
    {
     "data": {
      "image/png": "[encoded data removed]",
      "text/plain": [
       "<Figure size 432x288 with 1 Axes>"
      ]
     },
     "metadata": {
      "needs_background": "light"
     },
     "output_type": "display_data"
    }
   ],
   "source": [
    "plt.scatter(data.dist_v2, data.rel_vel)\n",
    "plt.xlabel('distance, arcmin')\n",
    "plt.ylabel('relative velocity, km/s')"
   ]
  },
  {
   "cell_type": "code",
   "execution_count": 115,
   "metadata": {},
   "outputs": [],
   "source": [
    "data = data.sort_values(by=['dist_v2'], ascending=True)\n"
   ]
  },
  {
   "cell_type": "code",
   "execution_count": 116,
   "metadata": {},
   "outputs": [
    {
     "data": {
      "text/plain": [
       "12"
      ]
     },
     "execution_count": 116,
     "metadata": {},
     "output_type": "execute_result"
    }
   ],
   "source": [
    "int(data.shape[0]/100.)\n"
   ]
  },
  {
   "cell_type": "code",
   "execution_count": 117,
   "metadata": {},
   "outputs": [
    {
     "name": "stdout",
     "output_type": "stream",
     "text": [
      "[   0   80  160  240  320  400  480  560  640  720  800  880  960 1040\n",
      " 1120 1200]\n"
     ]
    }
   ],
   "source": [
    "Ngal_per_bin=80\n",
    "\n",
    "indices = np.arange(0,data.shape[0],Ngal_per_bin)\n",
    "print(indices)"
   ]
  },
  {
   "cell_type": "code",
   "execution_count": 118,
   "metadata": {},
   "outputs": [],
   "source": [
    "rbins=np.array([data.dist_v2[i] for i in indices])"
   ]
  },
  {
   "cell_type": "code",
   "execution_count": 119,
   "metadata": {},
   "outputs": [],
   "source": [
    "rc = (rbins[:-1]+rbins[1:])/2.\n",
    "area = np.pi*(rbins[1:]**2-rbins[:-1]**2)*(0.466*60.)**2"
   ]
  },
  {
   "cell_type": "code",
   "execution_count": 120,
   "metadata": {},
   "outputs": [
    {
     "name": "stdout",
     "output_type": "stream",
     "text": [
      "4009.44233666918\n"
     ]
    }
   ],
   "source": [
    "rc_kpc = rc * 0.466*60.\n",
    "print(rc_kpc.max())"
   ]
  },
  {
   "cell_type": "code",
   "execution_count": 121,
   "metadata": {},
   "outputs": [],
   "source": [
    "SB = Ngal_per_bin/area"
   ]
  },
  {
   "cell_type": "code",
   "execution_count": 122,
   "metadata": {},
   "outputs": [
    {
     "data": {
      "text/plain": [
       "[<matplotlib.lines.Line2D at 0x7f96d5292be0>]"
      ]
     },
     "execution_count": 122,
     "metadata": {},
     "output_type": "execute_result"
    },
    {
     "data": {
      "image/png": "[encoded data removed]",
      "text/plain": [
       "<Figure size 432x288 with 1 Axes>"
      ]
     },
     "metadata": {
      "needs_background": "light"
     },
     "output_type": "display_data"
    }
   ],
   "source": [
    "plt.loglog(rc_kpc,SB,'.')"
   ]
  },
  {
   "cell_type": "markdown",
   "metadata": {},
   "source": [
    "# Задача на дом: определить $r_{halfmass}$ и посчитать массу"
   ]
  },
  {
   "cell_type": "code",
   "execution_count": null,
   "metadata": {},
   "outputs": [],
   "source": []
  }
 ],
 "metadata": {
  "kernelspec": {
   "display_name": "Python 3",
   "language": "python",
   "name": "python3"
  },
  "language_info": {
   "codemirror_mode": {
    "name": "ipython",
    "version": 3
   },
   "file_extension": ".py",
   "mimetype": "text/x-python",
   "name": "python",
   "nbconvert_exporter": "python",
   "pygments_lexer": "ipython3",
   "version": "3.6.9"
  }
 },
 "nbformat": 4,
 "nbformat_minor": 2
}
