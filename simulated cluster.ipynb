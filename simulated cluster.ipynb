{
 "cells": [
  {
   "cell_type": "code",
   "execution_count": 40,
   "metadata": {},
   "outputs": [],
   "source": [
    "import pandas as pd\n",
    "import matplotlib.pyplot as plt\n",
    "%matplotlib inline\n",
    "import numpy as np\n",
    "from scipy import interpolate\n",
    "from scipy.optimize import curve_fit"
   ]
  },
  {
   "cell_type": "code",
   "execution_count": 41,
   "metadata": {},
   "outputs": [],
   "source": [
    "data = pd.read_table(\"g1a.snap_092_dm_particles.klaus\",sep='\\s+',skiprows=1,\n",
    "                     header=None,names=['x','y','z','vx','vy','vz'])"
   ]
  },
  {
   "cell_type": "code",
   "execution_count": 42,
   "metadata": {},
   "outputs": [
    {
     "data": {
      "text/html": [
       "<div>\n",
       "<style scoped>\n",
       "    .dataframe tbody tr th:only-of-type {\n",
       "        vertical-align: middle;\n",
       "    }\n",
       "\n",
       "    .dataframe tbody tr th {\n",
       "        vertical-align: top;\n",
       "    }\n",
       "\n",
       "    .dataframe thead th {\n",
       "        text-align: right;\n",
       "    }\n",
       "</style>\n",
       "<table border=\"1\" class=\"dataframe\">\n",
       "  <thead>\n",
       "    <tr style=\"text-align: right;\">\n",
       "      <th></th>\n",
       "      <th>x</th>\n",
       "      <th>y</th>\n",
       "      <th>z</th>\n",
       "      <th>vx</th>\n",
       "      <th>vy</th>\n",
       "      <th>vz</th>\n",
       "    </tr>\n",
       "  </thead>\n",
       "  <tbody>\n",
       "    <tr>\n",
       "      <th>0</th>\n",
       "      <td>-2618.6616</td>\n",
       "      <td>2029.4607</td>\n",
       "      <td>-1232.1744</td>\n",
       "      <td>-450.86899</td>\n",
       "      <td>761.49188</td>\n",
       "      <td>103.506860</td>\n",
       "    </tr>\n",
       "    <tr>\n",
       "      <th>1</th>\n",
       "      <td>-2569.7881</td>\n",
       "      <td>2016.9364</td>\n",
       "      <td>-1355.1530</td>\n",
       "      <td>973.79175</td>\n",
       "      <td>211.47600</td>\n",
       "      <td>234.190540</td>\n",
       "    </tr>\n",
       "    <tr>\n",
       "      <th>2</th>\n",
       "      <td>-2588.4331</td>\n",
       "      <td>1727.2485</td>\n",
       "      <td>-1465.8170</td>\n",
       "      <td>1171.68990</td>\n",
       "      <td>142.06020</td>\n",
       "      <td>-2.163644</td>\n",
       "    </tr>\n",
       "    <tr>\n",
       "      <th>3</th>\n",
       "      <td>-2591.0120</td>\n",
       "      <td>1809.4641</td>\n",
       "      <td>-1545.0443</td>\n",
       "      <td>1578.01060</td>\n",
       "      <td>-1231.04200</td>\n",
       "      <td>606.012940</td>\n",
       "    </tr>\n",
       "    <tr>\n",
       "      <th>4</th>\n",
       "      <td>-2973.0068</td>\n",
       "      <td>1074.5974</td>\n",
       "      <td>-1284.0425</td>\n",
       "      <td>771.54156</td>\n",
       "      <td>-737.46881</td>\n",
       "      <td>622.242980</td>\n",
       "    </tr>\n",
       "  </tbody>\n",
       "</table>\n",
       "</div>"
      ],
      "text/plain": [
       "           x          y          z          vx          vy          vz\n",
       "0 -2618.6616  2029.4607 -1232.1744  -450.86899   761.49188  103.506860\n",
       "1 -2569.7881  2016.9364 -1355.1530   973.79175   211.47600  234.190540\n",
       "2 -2588.4331  1727.2485 -1465.8170  1171.68990   142.06020   -2.163644\n",
       "3 -2591.0120  1809.4641 -1545.0443  1578.01060 -1231.04200  606.012940\n",
       "4 -2973.0068  1074.5974 -1284.0425   771.54156  -737.46881  622.242980"
      ]
     },
     "execution_count": 42,
     "metadata": {},
     "output_type": "execute_result"
    }
   ],
   "source": [
    "data.head()"
   ]
  },
  {
   "cell_type": "code",
   "execution_count": 43,
   "metadata": {},
   "outputs": [
    {
     "data": {
      "text/plain": [
       "(1188528, 6)"
      ]
     },
     "execution_count": 43,
     "metadata": {},
     "output_type": "execute_result"
    }
   ],
   "source": [
    "data.shape"
   ]
  },
  {
   "cell_type": "markdown",
   "metadata": {},
   "source": [
    "# 3D density of dm-particles"
   ]
  },
  {
   "cell_type": "code",
   "execution_count": 44,
   "metadata": {},
   "outputs": [],
   "source": [
    "N_per_bin=10000\n",
    "indices = np.arange(0,data.shape[0],N_per_bin)"
   ]
  },
  {
   "cell_type": "code",
   "execution_count": 45,
   "metadata": {},
   "outputs": [],
   "source": [
    "data['r2d'] = np.sqrt(data['x']**2+data['y']**2)\n",
    "data['r3d'] = np.sqrt(data['x']**2+data['y']**2+data['z']**2)\n",
    "\n",
    "data.sort_values(by=['r3d'], ascending=True, inplace=True)\n",
    "data=data.reset_index()"
   ]
  },
  {
   "cell_type": "code",
   "execution_count": 46,
   "metadata": {},
   "outputs": [],
   "source": [
    "rbins3d=np.array([data.r3d[i] for i in indices])"
   ]
  },
  {
   "cell_type": "code",
   "execution_count": 47,
   "metadata": {},
   "outputs": [],
   "source": [
    "rc3d = (rbins3d[:-1]+rbins3d[1:])/2.\n",
    "volume = 4./3.*np.pi*(rbins3d[1:]**3-rbins3d[:-1]**3)"
   ]
  },
  {
   "cell_type": "code",
   "execution_count": 48,
   "metadata": {},
   "outputs": [],
   "source": [
    "rho3d = N_per_bin/volume"
   ]
  },
  {
   "cell_type": "code",
   "execution_count": 49,
   "metadata": {},
   "outputs": [
    {
     "data": {
      "text/plain": [
       "[<matplotlib.lines.Line2D at 0x7f47b6955a20>]"
      ]
     },
     "execution_count": 49,
     "metadata": {},
     "output_type": "execute_result"
    },
    {
     "data": {
      "image/png": "[encoded data removed]",
      "text/plain": [
       "<Figure size 432x288 with 1 Axes>"
      ]
     },
     "metadata": {
      "needs_background": "light"
     },
     "output_type": "display_data"
    }
   ],
   "source": [
    "plt.loglog(rc3d,rho3d,'.')"
   ]
  },
  {
   "cell_type": "code",
   "execution_count": 50,
   "metadata": {},
   "outputs": [],
   "source": [
    "def NFW(x, rho0, rs):\n",
    "    _x = x/rs\n",
    "    return rho0/_x/(1.+_x)**2"
   ]
  },
  {
   "cell_type": "code",
   "execution_count": 51,
   "metadata": {},
   "outputs": [],
   "source": [
    "NFWfit, pcov = curve_fit(NFW, rc3d, rho3d)"
   ]
  },
  {
   "cell_type": "code",
   "execution_count": 52,
   "metadata": {},
   "outputs": [
    {
     "data": {
      "text/plain": [
       "array([3.73655719e-04, 7.62098110e+02])"
      ]
     },
     "execution_count": 52,
     "metadata": {},
     "output_type": "execute_result"
    }
   ],
   "source": [
    "NFWfit"
   ]
  },
  {
   "cell_type": "code",
   "execution_count": 53,
   "metadata": {},
   "outputs": [
    {
     "data": {
      "text/plain": [
       "Text(0, 0.5, 'density, arb units')"
      ]
     },
     "execution_count": 53,
     "metadata": {},
     "output_type": "execute_result"
    },
    {
     "data": {
      "image/png": "[encoded data removed]",
      "text/plain": [
       "<Figure size 432x288 with 1 Axes>"
      ]
     },
     "metadata": {
      "needs_background": "light"
     },
     "output_type": "display_data"
    }
   ],
   "source": [
    "plt.loglog(rc3d, NFW(rc3d, *NFWfit), 'r-')\n",
    "\n",
    "plt.loglog(rc3d,rho3d,'.')\n",
    "plt.xlabel(\"kpc\")\n",
    "plt.ylabel(\"density, arb units\")"
   ]
  },
  {
   "cell_type": "code",
   "execution_count": 54,
   "metadata": {},
   "outputs": [],
   "source": [
    "mass_dm =  0.16156486 # 10^{10}solar masses"
   ]
  },
  {
   "cell_type": "code",
   "execution_count": 55,
   "metadata": {},
   "outputs": [],
   "source": [
    "m_unit = 1.9890000000000001e+43\n",
    "l_unit = 3.0856779999999998e+21\n"
   ]
  },
  {
   "cell_type": "code",
   "execution_count": 56,
   "metadata": {},
   "outputs": [],
   "source": [
    "# M(r)\n",
    "mass = N_per_bin*mass_dm*m_unit*np.arange(1,len(rbins3d))\n",
    "av_rho = mass/(4./3. *np.pi*rbins3d[1:]**3*l_unit**3)"
   ]
  },
  {
   "cell_type": "code",
   "execution_count": 57,
   "metadata": {},
   "outputs": [
    {
     "data": {
      "text/plain": [
       "1180000"
      ]
     },
     "execution_count": 57,
     "metadata": {},
     "output_type": "execute_result"
    }
   ],
   "source": [
    "N_per_bin*(len(rbins3d)-1)"
   ]
  },
  {
   "cell_type": "code",
   "execution_count": 58,
   "metadata": {},
   "outputs": [
    {
     "data": {
      "text/plain": [
       "(1180000, 9)"
      ]
     },
     "execution_count": 58,
     "metadata": {},
     "output_type": "execute_result"
    }
   ],
   "source": [
    "data[data.r3d<np.max(rbins3d)].shape"
   ]
  },
  {
   "cell_type": "markdown",
   "metadata": {},
   "source": [
    "# $\\rho_{crit} = \\frac{3H^2}{8\\pi G}$"
   ]
  },
  {
   "cell_type": "code",
   "execution_count": 59,
   "metadata": {},
   "outputs": [
    {
     "name": "stdout",
     "output_type": "stream",
     "text": [
      "9.206218189528576e-30 g/cm^3\n"
     ]
    }
   ],
   "source": [
    "h0=0.7\n",
    "rho_crit=3.*(h0*100.*1e5/3.08568e+24)**2/(8.*np.pi*6.67259e-08) #g/cm^3\n",
    "print(rho_crit, \"g/cm^3\")"
   ]
  },
  {
   "cell_type": "code",
   "execution_count": 60,
   "metadata": {},
   "outputs": [
    {
     "data": {
      "text/plain": [
       "Text(0, 0.5, 'average density, g/cm^3')"
      ]
     },
     "execution_count": 60,
     "metadata": {},
     "output_type": "execute_result"
    },
    {
     "data": {
      "image/png": "[encoded data removed]",
      "text/plain": [
       "<Figure size 432x288 with 1 Axes>"
      ]
     },
     "metadata": {
      "needs_background": "light"
     },
     "output_type": "display_data"
    }
   ],
   "source": [
    "plt.loglog(rbins3d[1:], av_rho, 'r-')\n",
    "plt.loglog(rbins3d[1:],rbins3d[1:]*0.+200.*rho_crit,'-')\n",
    "plt.xlabel(\"kpc\")\n",
    "plt.ylabel(\"average density, g/cm^3\")\n"
   ]
  },
  {
   "cell_type": "code",
   "execution_count": 61,
   "metadata": {},
   "outputs": [
    {
     "name": "stdout",
     "output_type": "stream",
     "text": [
      "[2398.34762509]\n"
     ]
    }
   ],
   "source": [
    "idx = np.argwhere(np.diff(np.sign(av_rho-200.*rho_crit))).flatten()\n",
    "print(rbins3d[idx+1])\n",
    "#plt.loglog([rbins3d[idx+1],rbins3d[idx+1]],[1e-28,1e-23],'--',color='black')\n"
   ]
  },
  {
   "cell_type": "code",
   "execution_count": 62,
   "metadata": {},
   "outputs": [
    {
     "name": "stdout",
     "output_type": "stream",
     "text": [
      "[2398.34762509] [1.58333563e+15]\n"
     ]
    }
   ],
   "source": [
    "r200 = rbins3d[idx+1]\n",
    "M200 = mass[idx]/1.9890000000000001e+33\n",
    "print(r200,M200)"
   ]
  },
  {
   "cell_type": "code",
   "execution_count": 63,
   "metadata": {},
   "outputs": [
    {
     "data": {
      "text/plain": [
       "(array([1.0000e+00, 1.0000e+00, 5.0000e+00, 1.8000e+01, 7.2000e+01,\n",
       "        1.5500e+02, 1.3900e+02, 8.7000e+01, 5.7000e+01, 7.4000e+01,\n",
       "        1.1900e+02, 1.7100e+02, 2.1100e+02, 2.9600e+02, 4.3000e+02,\n",
       "        6.7000e+02, 1.0120e+03, 1.3760e+03, 1.6470e+03, 1.6590e+03,\n",
       "        2.1380e+03, 2.4160e+03, 2.6620e+03, 3.1640e+03, 3.7120e+03,\n",
       "        4.2860e+03, 5.2630e+03, 6.6690e+03, 7.9440e+03, 9.2220e+03,\n",
       "        1.0279e+04, 1.1505e+04, 1.2843e+04, 1.4698e+04, 1.6093e+04,\n",
       "        1.7043e+04, 1.8458e+04, 1.9380e+04, 2.1490e+04, 2.3445e+04,\n",
       "        2.6291e+04, 2.9469e+04, 3.1775e+04, 3.4890e+04, 3.7095e+04,\n",
       "        3.8713e+04, 4.0446e+04, 4.1973e+04, 4.3806e+04, 4.3256e+04,\n",
       "        4.2596e+04, 4.2622e+04, 4.2337e+04, 4.1159e+04, 4.0019e+04,\n",
       "        3.6965e+04, 3.5134e+04, 3.2802e+04, 3.0959e+04, 2.8036e+04,\n",
       "        2.5456e+04, 2.3188e+04, 2.1274e+04, 1.9228e+04, 1.7118e+04,\n",
       "        1.4916e+04, 1.3204e+04, 1.1798e+04, 1.0647e+04, 9.8100e+03,\n",
       "        9.0870e+03, 8.7010e+03, 7.2550e+03, 6.0270e+03, 5.2320e+03,\n",
       "        4.2200e+03, 3.8680e+03, 3.1290e+03, 2.7230e+03, 2.1620e+03,\n",
       "        1.7750e+03, 1.4690e+03, 1.2630e+03, 9.5000e+02, 8.0300e+02,\n",
       "        5.9400e+02, 3.8600e+02, 2.9000e+02, 2.0700e+02, 1.6000e+02,\n",
       "        9.7000e+01, 8.9000e+01, 4.6000e+01, 4.8000e+01, 2.2000e+01,\n",
       "        1.1000e+01, 7.0000e+00, 9.0000e+00, 2.0000e+00, 4.0000e+00]),\n",
       " array([-4516.6841  , -4423.441458, -4330.198816, -4236.956174,\n",
       "        -4143.713532, -4050.47089 , -3957.228248, -3863.985606,\n",
       "        -3770.742964, -3677.500322, -3584.25768 , -3491.015038,\n",
       "        -3397.772396, -3304.529754, -3211.287112, -3118.04447 ,\n",
       "        -3024.801828, -2931.559186, -2838.316544, -2745.073902,\n",
       "        -2651.83126 , -2558.588618, -2465.345976, -2372.103334,\n",
       "        -2278.860692, -2185.61805 , -2092.375408, -1999.132766,\n",
       "        -1905.890124, -1812.647482, -1719.40484 , -1626.162198,\n",
       "        -1532.919556, -1439.676914, -1346.434272, -1253.19163 ,\n",
       "        -1159.948988, -1066.706346,  -973.463704,  -880.221062,\n",
       "         -786.97842 ,  -693.735778,  -600.493136,  -507.250494,\n",
       "         -414.007852,  -320.76521 ,  -227.522568,  -134.279926,\n",
       "          -41.037284,    52.205358,   145.448   ,   238.690642,\n",
       "          331.933284,   425.175926,   518.418568,   611.66121 ,\n",
       "          704.903852,   798.146494,   891.389136,   984.631778,\n",
       "         1077.87442 ,  1171.117062,  1264.359704,  1357.602346,\n",
       "         1450.844988,  1544.08763 ,  1637.330272,  1730.572914,\n",
       "         1823.815556,  1917.058198,  2010.30084 ,  2103.543482,\n",
       "         2196.786124,  2290.028766,  2383.271408,  2476.51405 ,\n",
       "         2569.756692,  2662.999334,  2756.241976,  2849.484618,\n",
       "         2942.72726 ,  3035.969902,  3129.212544,  3222.455186,\n",
       "         3315.697828,  3408.94047 ,  3502.183112,  3595.425754,\n",
       "         3688.668396,  3781.911038,  3875.15368 ,  3968.396322,\n",
       "         4061.638964,  4154.881606,  4248.124248,  4341.36689 ,\n",
       "         4434.609532,  4527.852174,  4621.094816,  4714.337458,\n",
       "         4807.5801  ]),\n",
       " <a list of 100 Patch objects>)"
      ]
     },
     "execution_count": 63,
     "metadata": {},
     "output_type": "execute_result"
    },
    {
     "data": {
      "image/png": "[encoded data removed]",
      "text/plain": [
       "<Figure size 432x288 with 1 Axes>"
      ]
     },
     "metadata": {
      "needs_background": "light"
     },
     "output_type": "display_data"
    }
   ],
   "source": [
    "plt.hist(data['vz'],bins=100)"
   ]
  },
  {
   "cell_type": "code",
   "execution_count": 64,
   "metadata": {},
   "outputs": [
    {
     "data": {
      "text/plain": [
       "157.6618691358686"
      ]
     },
     "execution_count": 64,
     "metadata": {},
     "output_type": "execute_result"
    }
   ],
   "source": [
    "data['vz'].mean()"
   ]
  },
  {
   "cell_type": "code",
   "execution_count": 65,
   "metadata": {},
   "outputs": [
    {
     "data": {
      "text/plain": [
       "1102.9393517244698"
      ]
     },
     "execution_count": 65,
     "metadata": {},
     "output_type": "execute_result"
    }
   ],
   "source": [
    "data['vz'].std()"
   ]
  },
  {
   "cell_type": "code",
   "execution_count": 66,
   "metadata": {},
   "outputs": [],
   "source": [
    "G = 4.302e-3 #pc/Msun (km/s)^2"
   ]
  },
  {
   "cell_type": "code",
   "execution_count": 67,
   "metadata": {},
   "outputs": [
    {
     "name": "stdout",
     "output_type": "stream",
     "text": [
      "[2.03454006] 10^{15} Msun\n"
     ]
    }
   ],
   "source": [
    "Mass=r200*3.*data['vz'].std()*data['vz'].std()/G/1e-3/1e15\n",
    "print(Mass, \"10^{15} Msun\")"
   ]
  },
  {
   "cell_type": "markdown",
   "metadata": {},
   "source": [
    "# surface brightness"
   ]
  },
  {
   "cell_type": "code",
   "execution_count": 68,
   "metadata": {},
   "outputs": [],
   "source": [
    "data.sort_values(by=['r2d'], ascending=True, inplace=True)\n",
    "data=data.reset_index()"
   ]
  },
  {
   "cell_type": "code",
   "execution_count": 69,
   "metadata": {},
   "outputs": [
    {
     "data": {
      "text/html": [
       "<div>\n",
       "<style scoped>\n",
       "    .dataframe tbody tr th:only-of-type {\n",
       "        vertical-align: middle;\n",
       "    }\n",
       "\n",
       "    .dataframe tbody tr th {\n",
       "        vertical-align: top;\n",
       "    }\n",
       "\n",
       "    .dataframe thead th {\n",
       "        text-align: right;\n",
       "    }\n",
       "</style>\n",
       "<table border=\"1\" class=\"dataframe\">\n",
       "  <thead>\n",
       "    <tr style=\"text-align: right;\">\n",
       "      <th></th>\n",
       "      <th>level_0</th>\n",
       "      <th>index</th>\n",
       "      <th>x</th>\n",
       "      <th>y</th>\n",
       "      <th>z</th>\n",
       "      <th>vx</th>\n",
       "      <th>vy</th>\n",
       "      <th>vz</th>\n",
       "      <th>r2d</th>\n",
       "      <th>r3d</th>\n",
       "    </tr>\n",
       "  </thead>\n",
       "  <tbody>\n",
       "    <tr>\n",
       "      <th>0</th>\n",
       "      <td>3102</td>\n",
       "      <td>469338</td>\n",
       "      <td>-0.039760</td>\n",
       "      <td>0.349993</td>\n",
       "      <td>-36.796352</td>\n",
       "      <td>196.69960</td>\n",
       "      <td>-1865.27770</td>\n",
       "      <td>-1564.38750</td>\n",
       "      <td>0.352244</td>\n",
       "      <td>36.798038</td>\n",
       "    </tr>\n",
       "    <tr>\n",
       "      <th>1</th>\n",
       "      <td>95</td>\n",
       "      <td>469162</td>\n",
       "      <td>0.307617</td>\n",
       "      <td>-0.435442</td>\n",
       "      <td>-8.772147</td>\n",
       "      <td>-622.33948</td>\n",
       "      <td>-1571.97110</td>\n",
       "      <td>2467.08860</td>\n",
       "      <td>0.533140</td>\n",
       "      <td>8.788333</td>\n",
       "    </tr>\n",
       "    <tr>\n",
       "      <th>2</th>\n",
       "      <td>240</td>\n",
       "      <td>469219</td>\n",
       "      <td>-0.403704</td>\n",
       "      <td>-0.469535</td>\n",
       "      <td>-12.234061</td>\n",
       "      <td>1131.58720</td>\n",
       "      <td>173.82240</td>\n",
       "      <td>134.28969</td>\n",
       "      <td>0.619225</td>\n",
       "      <td>12.249722</td>\n",
       "    </tr>\n",
       "    <tr>\n",
       "      <th>3</th>\n",
       "      <td>5755</td>\n",
       "      <td>438366</td>\n",
       "      <td>-0.682896</td>\n",
       "      <td>-0.092948</td>\n",
       "      <td>-50.843506</td>\n",
       "      <td>843.01617</td>\n",
       "      <td>-129.27139</td>\n",
       "      <td>1005.66960</td>\n",
       "      <td>0.689193</td>\n",
       "      <td>50.848177</td>\n",
       "    </tr>\n",
       "    <tr>\n",
       "      <th>4</th>\n",
       "      <td>4822</td>\n",
       "      <td>471473</td>\n",
       "      <td>0.803746</td>\n",
       "      <td>-0.302996</td>\n",
       "      <td>46.247559</td>\n",
       "      <td>1415.78470</td>\n",
       "      <td>-1182.79270</td>\n",
       "      <td>1831.69360</td>\n",
       "      <td>0.858961</td>\n",
       "      <td>46.255535</td>\n",
       "    </tr>\n",
       "  </tbody>\n",
       "</table>\n",
       "</div>"
      ],
      "text/plain": [
       "   level_0   index         x         y          z          vx          vy  \\\n",
       "0     3102  469338 -0.039760  0.349993 -36.796352   196.69960 -1865.27770   \n",
       "1       95  469162  0.307617 -0.435442  -8.772147  -622.33948 -1571.97110   \n",
       "2      240  469219 -0.403704 -0.469535 -12.234061  1131.58720   173.82240   \n",
       "3     5755  438366 -0.682896 -0.092948 -50.843506   843.01617  -129.27139   \n",
       "4     4822  471473  0.803746 -0.302996  46.247559  1415.78470 -1182.79270   \n",
       "\n",
       "           vz       r2d        r3d  \n",
       "0 -1564.38750  0.352244  36.798038  \n",
       "1  2467.08860  0.533140   8.788333  \n",
       "2   134.28969  0.619225  12.249722  \n",
       "3  1005.66960  0.689193  50.848177  \n",
       "4  1831.69360  0.858961  46.255535  "
      ]
     },
     "execution_count": 69,
     "metadata": {},
     "output_type": "execute_result"
    }
   ],
   "source": [
    "data.head()"
   ]
  },
  {
   "cell_type": "code",
   "execution_count": 70,
   "metadata": {},
   "outputs": [],
   "source": [
    "N_per_bin=10000\n",
    "\n",
    "indices = np.arange(0,data.shape[0],N_per_bin)\n"
   ]
  },
  {
   "cell_type": "code",
   "execution_count": 71,
   "metadata": {},
   "outputs": [],
   "source": [
    "rbins=np.array([data.r2d[i] for i in indices])"
   ]
  },
  {
   "cell_type": "code",
   "execution_count": 72,
   "metadata": {},
   "outputs": [],
   "source": [
    "rc = (rbins[:-1]+rbins[1:])/2.\n",
    "area = np.pi*(rbins[1:]**2-rbins[:-1]**2)"
   ]
  },
  {
   "cell_type": "code",
   "execution_count": 73,
   "metadata": {},
   "outputs": [],
   "source": [
    "SB = N_per_bin/area"
   ]
  },
  {
   "cell_type": "code",
   "execution_count": 74,
   "metadata": {},
   "outputs": [
    {
     "data": {
      "text/plain": [
       "Text(0.5, 1.0, 'Surface brightness profile')"
      ]
     },
     "execution_count": 74,
     "metadata": {},
     "output_type": "execute_result"
    },
    {
     "data": {
      "image/png": "[encoded data removed]",
      "text/plain": [
       "<Figure size 432x288 with 1 Axes>"
      ]
     },
     "metadata": {
      "needs_background": "light"
     },
     "output_type": "display_data"
    }
   ],
   "source": [
    "plt.loglog(rc,SB,'.')\n",
    "plt.xlabel(\"projected dist., kpc\")\n",
    "plt.ylabel(\"mass/area, arb units\")\n",
    "plt.title(\"Surface brightness profile\")"
   ]
  },
  {
   "cell_type": "code",
   "execution_count": 75,
   "metadata": {},
   "outputs": [
    {
     "name": "stdout",
     "output_type": "stream",
     "text": [
      "[58]\n",
      "[968.4480665]\n"
     ]
    }
   ],
   "source": [
    "Ntotal = N_per_bin*(len(rbins)-1)\n",
    "idx = np.argwhere(np.sign(N_per_bin*np.arange(1,len(rbins))-Ntotal/2)==0).flatten()\n",
    "print(idx)\n",
    "print(rbins[idx])\n"
   ]
  },
  {
   "cell_type": "code",
   "execution_count": 76,
   "metadata": {},
   "outputs": [],
   "source": [
    "\n",
    "#idx=np.argwhere(np.diff(np.sign(N_per_bin*np.arange(1,len(rbins))-Ntotal/2))).flatten()\n",
    "#idx"
   ]
  },
  {
   "cell_type": "code",
   "execution_count": 77,
   "metadata": {},
   "outputs": [],
   "source": [
    "r_halfmass = rbins[idx]\n"
   ]
  },
  {
   "cell_type": "markdown",
   "metadata": {},
   "source": [
    "# $r_{halfmass} \\simeq 0.45 r_{cluster}$"
   ]
  },
  {
   "cell_type": "code",
   "execution_count": 78,
   "metadata": {},
   "outputs": [
    {
     "name": "stdout",
     "output_type": "stream",
     "text": [
      "[1.82565174] 10^{15} Msun\n"
     ]
    }
   ],
   "source": [
    "Mass=r_halfmass/0.45*3.*data['vz'].std()*data['vz'].std()/G/1e-3/1e15\n",
    "print(Mass, \"10^{15} Msun\")"
   ]
  },
  {
   "cell_type": "markdown",
   "metadata": {},
   "source": [
    "# Неплохо!"
   ]
  },
  {
   "cell_type": "code",
   "execution_count": null,
   "metadata": {},
   "outputs": [],
   "source": []
  }
 ],
 "metadata": {
  "kernelspec": {
   "display_name": "Python 3",
   "language": "python",
   "name": "python3"
  },
  "language_info": {
   "codemirror_mode": {
    "name": "ipython",
    "version": 3
   },
   "file_extension": ".py",
   "mimetype": "text/x-python",
   "name": "python",
   "nbconvert_exporter": "python",
   "pygments_lexer": "ipython3",
   "version": "3.6.9"
  }
 },
 "nbformat": 4,
 "nbformat_minor": 2
}
