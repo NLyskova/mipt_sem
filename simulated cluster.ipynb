{
 "cells": [
  {
   "cell_type": "code",
   "execution_count": null,
   "metadata": {},
   "outputs": [],
   "source": [
    "import pandas as pd\n",
    "import matplotlib.pyplot as plt\n",
    "%matplotlib inline\n",
    "import numpy as np\n",
    "from scipy import interpolate\n",
    "from scipy.optimize import curve_fit"
   ]
  },
  {
   "cell_type": "code",
   "execution_count": null,
   "metadata": {},
   "outputs": [],
   "source": [
    "data = pd.read_table(\"g1a.snap_092_dm_particles.klaus\",sep='\\s+',skiprows=1,\n",
    "                     header=None,names=['x','y','z','vx','vy','vz'])"
   ]
  },
  {
   "cell_type": "code",
   "execution_count": null,
   "metadata": {},
   "outputs": [],
   "source": [
    "data.head()"
   ]
  },
  {
   "cell_type": "code",
   "execution_count": null,
   "metadata": {},
   "outputs": [],
   "source": [
    "data.shape"
   ]
  },
  {
   "cell_type": "markdown",
   "metadata": {},
   "source": [
    "# 3D density of dm-particles"
   ]
  },
  {
   "cell_type": "code",
   "execution_count": null,
   "metadata": {},
   "outputs": [],
   "source": [
    "N_per_bin=10000\n",
    "indices = np.arange(0,data.shape[0],N_per_bin)"
   ]
  },
  {
   "cell_type": "code",
   "execution_count": null,
   "metadata": {},
   "outputs": [],
   "source": [
    "data['r2d'] = np.sqrt(data['x']**2+data['y']**2)\n",
    "data['r3d'] = np.sqrt(data['x']**2+data['y']**2+data['z']**2)\n",
    "\n",
    "data.sort_values(by=['r3d'], ascending=True, inplace=True)\n",
    "data=data.reset_index()"
   ]
  },
  {
   "cell_type": "code",
   "execution_count": null,
   "metadata": {},
   "outputs": [],
   "source": [
    "rbins3d=np.array([data.r3d[i] for i in indices])"
   ]
  },
  {
   "cell_type": "code",
   "execution_count": null,
   "metadata": {},
   "outputs": [],
   "source": [
    "rc3d = (rbins3d[:-1]+rbins3d[1:])/2.\n",
    "volume = 4./3.*np.pi*(rbins3d[1:]**3-rbins3d[:-1]**3)"
   ]
  },
  {
   "cell_type": "code",
   "execution_count": null,
   "metadata": {},
   "outputs": [],
   "source": [
    "rho3d = N_per_bin/volume"
   ]
  },
  {
   "cell_type": "code",
   "execution_count": null,
   "metadata": {},
   "outputs": [],
   "source": [
    "plt.loglog(rc3d,rho3d,'.')"
   ]
  },
  {
   "cell_type": "code",
   "execution_count": null,
   "metadata": {},
   "outputs": [],
   "source": [
    "def NFW(x, rho0, rs):\n",
    "    _x = x/rs\n",
    "    return rho0/_x/(1.+_x)**2"
   ]
  },
  {
   "cell_type": "code",
   "execution_count": null,
   "metadata": {},
   "outputs": [],
   "source": [
    "NFWfit, pcov = curve_fit(NFW, rc3d, rho3d)"
   ]
  },
  {
   "cell_type": "code",
   "execution_count": null,
   "metadata": {},
   "outputs": [],
   "source": [
    "NFWfit"
   ]
  },
  {
   "cell_type": "code",
   "execution_count": null,
   "metadata": {},
   "outputs": [],
   "source": [
    "plt.loglog(rc3d, NFW(rc3d, *NFWfit), 'r-')\n",
    "\n",
    "plt.loglog(rc3d,rho3d,'.')\n",
    "plt.xlabel(\"kpc\")\n",
    "plt.ylabel(\"density, arb units\")"
   ]
  },
  {
   "cell_type": "code",
   "execution_count": null,
   "metadata": {},
   "outputs": [],
   "source": [
    "mass_dm =  0.16156486 # 10^{10}solar masses"
   ]
  },
  {
   "cell_type": "code",
   "execution_count": null,
   "metadata": {},
   "outputs": [],
   "source": [
    "m_unit = 1.9890000000000001e+43\n",
    "l_unit = 3.0856779999999998e+21\n"
   ]
  },
  {
   "cell_type": "code",
   "execution_count": null,
   "metadata": {},
   "outputs": [],
   "source": [
    "# M(r)\n",
    "mass = N_per_bin*mass_dm*m_unit*np.arange(1,len(rbins3d))\n",
    "av_rho = mass/(4./3. *np.pi*rbins3d[1:]**3*l_unit**3)"
   ]
  },
  {
   "cell_type": "code",
   "execution_count": null,
   "metadata": {},
   "outputs": [],
   "source": [
    "N_per_bin*(len(rbins3d)-1)"
   ]
  },
  {
   "cell_type": "code",
   "execution_count": null,
   "metadata": {},
   "outputs": [],
   "source": [
    "data[data.r3d<np.max(rbins3d)].shape"
   ]
  },
  {
   "cell_type": "markdown",
   "metadata": {},
   "source": [
    "# $\\rho_{crit} = \\frac{3H^2}{8\\pi G}$"
   ]
  },
  {
   "cell_type": "code",
   "execution_count": null,
   "metadata": {},
   "outputs": [],
   "source": [
    "h0=0.7\n",
    "rho_crit=3.*(h0*100.*1e5/3.08568e+24)**2/(8.*np.pi*6.67259e-08) #g/cm^3\n",
    "print(rho_crit, \"g/cm^3\")"
   ]
  },
  {
   "cell_type": "code",
   "execution_count": null,
   "metadata": {},
   "outputs": [],
   "source": [
    "plt.loglog(rbins3d[1:], av_rho, 'r-')\n",
    "plt.loglog(rbins3d[1:],rbins3d[1:]*0.+200.*rho_crit,'-')\n",
    "plt.xlabel(\"kpc\")\n",
    "plt.ylabel(\"average density, g/cm^3\")\n"
   ]
  },
  {
   "cell_type": "code",
   "execution_count": null,
   "metadata": {},
   "outputs": [],
   "source": [
    "idx = np.argwhere(np.diff(np.sign(av_rho-200.*rho_crit))).flatten()\n",
    "print(rbins3d[idx+1])\n",
    "#plt.loglog([rbins3d[idx+1],rbins3d[idx+1]],[1e-28,1e-23],'--',color='black')\n"
   ]
  },
  {
   "cell_type": "code",
   "execution_count": null,
   "metadata": {},
   "outputs": [],
   "source": [
    "r200 = rbins3d[idx+1]\n",
    "M200 = mass[idx]/1.9890000000000001e+33\n",
    "print(r200,M200)"
   ]
  },
  {
   "cell_type": "code",
   "execution_count": null,
   "metadata": {},
   "outputs": [],
   "source": [
    "plt.hist(data['vz'],bins=100)"
   ]
  },
  {
   "cell_type": "code",
   "execution_count": null,
   "metadata": {},
   "outputs": [],
   "source": [
    "data['vz'].mean()"
   ]
  },
  {
   "cell_type": "code",
   "execution_count": null,
   "metadata": {},
   "outputs": [],
   "source": [
    "data['vz'].std()"
   ]
  },
  {
   "cell_type": "code",
   "execution_count": null,
   "metadata": {},
   "outputs": [],
   "source": [
    "G = 4.302e-3 #pc/Msun (km/s)^2"
   ]
  },
  {
   "cell_type": "code",
   "execution_count": null,
   "metadata": {},
   "outputs": [],
   "source": [
    "Mass=r200*3.*data['vz'].std()*data['vz'].std()/G/1e-3/1e15\n",
    "print(Mass, \"10^{15} Msun\")"
   ]
  },
  {
   "cell_type": "markdown",
   "metadata": {},
   "source": [
    "# surface brightness"
   ]
  },
  {
   "cell_type": "code",
   "execution_count": null,
   "metadata": {},
   "outputs": [],
   "source": [
    "data.sort_values(by=['r2d'], ascending=True, inplace=True)\n",
    "data=data.reset_index()"
   ]
  },
  {
   "cell_type": "code",
   "execution_count": null,
   "metadata": {},
   "outputs": [],
   "source": [
    "data.head()"
   ]
  },
  {
   "cell_type": "code",
   "execution_count": null,
   "metadata": {},
   "outputs": [],
   "source": [
    "N_per_bin=10000\n",
    "\n",
    "indices = np.arange(0,data.shape[0],N_per_bin)\n"
   ]
  },
  {
   "cell_type": "code",
   "execution_count": null,
   "metadata": {},
   "outputs": [],
   "source": [
    "rbins=np.array([data.r2d[i] for i in indices])"
   ]
  },
  {
   "cell_type": "code",
   "execution_count": null,
   "metadata": {},
   "outputs": [],
   "source": [
    "rc = (rbins[:-1]+rbins[1:])/2.\n",
    "area = np.pi*(rbins[1:]**2-rbins[:-1]**2)"
   ]
  },
  {
   "cell_type": "code",
   "execution_count": null,
   "metadata": {},
   "outputs": [],
   "source": [
    "SB = N_per_bin/area"
   ]
  },
  {
   "cell_type": "code",
   "execution_count": null,
   "metadata": {},
   "outputs": [],
   "source": [
    "plt.loglog(rc,SB,'.')\n",
    "plt.xlabel(\"projected dist., kpc\")\n",
    "plt.ylabel(\"mass/area, arb units\")\n",
    "plt.title(\"Surface brightness profile\")"
   ]
  },
  {
   "cell_type": "code",
   "execution_count": null,
   "metadata": {},
   "outputs": [],
   "source": [
    "Ntotal = N_per_bin*(len(rbins)-1)\n",
    "idx = np.argwhere(np.sign(N_per_bin*np.arange(1,len(rbins))-Ntotal/2)==0).flatten()\n",
    "print(idx)\n",
    "print(rbins[idx])\n"
   ]
  },
  {
   "cell_type": "code",
   "execution_count": null,
   "metadata": {},
   "outputs": [],
   "source": [
    "\n",
    "#idx=np.argwhere(np.diff(np.sign(N_per_bin*np.arange(1,len(rbins))-Ntotal/2))).flatten()\n",
    "#idx"
   ]
  },
  {
   "cell_type": "code",
   "execution_count": null,
   "metadata": {},
   "outputs": [],
   "source": [
    "r_halfmass = rbins[idx]\n"
   ]
  },
  {
   "cell_type": "markdown",
   "metadata": {},
   "source": [
    "# $r_{halfmass} \\simeq 0.45 r_{cluster}$"
   ]
  },
  {
   "cell_type": "code",
   "execution_count": null,
   "metadata": {},
   "outputs": [],
   "source": [
    "Mass=r_halfmass/0.45*3.*data['vz'].std()*data['vz'].std()/G/1e-3/1e15\n",
    "print(Mass, \"10^{15} Msun\")"
   ]
  },
  {
   "cell_type": "markdown",
   "metadata": {},
   "source": [
    "# Неплохо!"
   ]
  },
  {
   "cell_type": "code",
   "execution_count": null,
   "metadata": {},
   "outputs": [],
   "source": []
  }
 ],
 "metadata": {
  "kernelspec": {
   "display_name": "Python 3",
   "language": "python",
   "name": "python3"
  },
  "language_info": {
   "codemirror_mode": {
    "name": "ipython",
    "version": 3
   },
   "file_extension": ".py",
   "mimetype": "text/x-python",
   "name": "python",
   "nbconvert_exporter": "python",
   "pygments_lexer": "ipython3",
   "version": "3.6.9"
  }
 },
 "nbformat": 4,
 "nbformat_minor": 2
}
